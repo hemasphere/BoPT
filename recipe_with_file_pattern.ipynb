{
 "cells": [
  {
   "cell_type": "code",
   "execution_count": 1,
   "metadata": {},
   "outputs": [],
   "source": [
    "import pandas as pd\n",
    "import xarray as xr\n",
    "from erddapy import ERDDAP\n",
    "from datetime import datetime\n",
    "\n",
    "\n",
    "import sys\n",
    "sys.path.append('/home/jovyan/repos/hemasphere/botpt/pangeo-forge-recipes')\n",
    "import pangeo_forge_recipes\n",
    "\n",
    "\n",
    "from pangeo_forge_recipes.patterns import ConcatDim, FilePattern, MergeDim\n",
    "from pangeo_forge_recipes.recipes import XarrayZarrRecipe\n",
    "\n",
    "#pip install fsspec-reference-maker"
   ]
  },
  {
   "cell_type": "code",
   "execution_count": 2,
   "metadata": {},
   "outputs": [],
   "source": [
    "server = 'http://erddap.dataexplorer.oceanobservatories.org/erddap'\n",
    "protocol = 'tabledap'\n",
    "\n",
    "e = ERDDAP(\n",
    "    server=server,\n",
    "    protocol=protocol\n",
    ")"
   ]
  },
  {
   "cell_type": "code",
   "execution_count": 3,
   "metadata": {},
   "outputs": [],
   "source": [
    "e.dataset_id = 'ooi-rs03ccal-mj03f-05-botpta301'"
   ]
  },
  {
   "cell_type": "code",
   "execution_count": 4,
   "metadata": {},
   "outputs": [],
   "source": [
    "variables = e.variables = ['time', 'latitude', 'longitude', 'botpres', 'botsflu_meandepth', 'botsflu_meanpres']"
   ]
  },
  {
   "cell_type": "code",
   "execution_count": 20,
   "metadata": {},
   "outputs": [],
   "source": [
    "years = e.constraints = {\n",
    "    'time>=': '2014-08-29T00:00:00Z',\n",
    "    'time<=': '2014-09-02T00:00:00Z',\n",
    "}"
   ]
  },
  {
   "cell_type": "code",
   "execution_count": 21,
   "metadata": {},
   "outputs": [],
   "source": [
    "url = e.get_download_url()"
   ]
  },
  {
   "cell_type": "code",
   "execution_count": 22,
   "metadata": {},
   "outputs": [
    {
     "data": {
      "text/plain": [
       "'http://erddap.dataexplorer.oceanobservatories.org/erddap/tabledap/ooi-rs03ccal-mj03f-05-botpta301.html?time,latitude,longitude,botpres,botsflu_meandepth,botsflu_meanpres&time>=1409270400.0&time<=1409616000.0'"
      ]
     },
     "execution_count": 22,
     "metadata": {},
     "output_type": "execute_result"
    }
   ],
   "source": [
    "url"
   ]
  },
  {
   "cell_type": "code",
   "execution_count": 23,
   "metadata": {},
   "outputs": [
    {
     "name": "stdout",
     "output_type": "stream",
     "text": [
      "/bin/bash: =1409616000.0: No such file or directory\n",
      "\n",
      "real\t0m0.001s\n",
      "user\t0m0.000s\n",
      "sys\t0m0.000s\n"
     ]
    }
   ],
   "source": [
    "!{'wget '+url}"
   ]
  },
  {
   "cell_type": "code",
   "execution_count": 24,
   "metadata": {},
   "outputs": [],
   "source": [
    "netcdf = e.to_ncCF()"
   ]
  },
  {
   "cell_type": "code",
   "execution_count": 25,
   "metadata": {},
   "outputs": [
    {
     "data": {
      "text/plain": [
       "<class 'netCDF4._netCDF4.Dataset'>\n",
       "root group (NETCDF3_CLASSIC data model, file format NETCDF3):\n",
       "    cdm_data_type: TimeSeries\n",
       "    cdm_timeseries_variables: station,longitude,latitude\n",
       "    contributor_email: feedback@axiomdatascience.com\n",
       "    contributor_name: Axiom Data Science\n",
       "    contributor_role: processor\n",
       "    contributor_role_vocabulary: NERC\n",
       "    contributor_url: https://www.axiomdatascience.com\n",
       "    Conventions: IOOS-1.2, CF-1.6, ACDD-1.3\n",
       "    creator_institution: Ocean Observatories Initiative (OOI)\n",
       "    creator_name: Ocean Observatories Initiative (OOI)\n",
       "    creator_sector: gov_federal\n",
       "    creator_type: institution\n",
       "    creator_url: https://oceanobservatories.org/\n",
       "    defaultDataQuery: bottilt_tdir,bottilt_ytlt,bottilt_xtlt,bottilt_tmag,bottilt_ccmp,botpres,z,botsflu_predtide,time,bottilt_scmp,botsflu_10minrate,botsflu_5minrate,botsflu_meanpres,botsflu_meandepth&time>=max(time)-3days\n",
       "    Easternmost_Easting: -130.00876\n",
       "    featureType: TimeSeries\n",
       "    geospatial_lat_max: 45.95484\n",
       "    geospatial_lat_min: 45.95484\n",
       "    geospatial_lat_units: degrees_north\n",
       "    geospatial_lon_max: -130.00876\n",
       "    geospatial_lon_min: -130.00876\n",
       "    geospatial_lon_units: degrees_east\n",
       "    geospatial_vertical_positive: up\n",
       "    geospatial_vertical_units: m\n",
       "    history: Downloaded from Ocean Observatories Initiative (OOI) at https://ooinet.oceanobservatories.org/data_access/?search=RS03CCAL-MJ03F-05-BOTPTA301\n",
       "2022-04-29T03:07:39Z https://ooinet.oceanobservatories.org/data_access/?search=RS03CCAL-MJ03F-05-BOTPTA301\n",
       "2022-04-29T03:07:39Z http://erddap.dataexplorer.oceanobservatories.org/erddap/tabledap/ooi-rs03ccal-mj03f-05-botpta301.ncCF?station,time,latitude,longitude,botpres,botsflu_meandepth,botsflu_meanpres&time%3E=1409270400.0&time%3C=1409616000.0\n",
       "    id: 104331\n",
       "    infoUrl: https://sensors.ioos.us/#metadata/104331/station\n",
       "    institution: Ocean Observatories Initiative (OOI)\n",
       "    license: The data may be used and redistributed for free but is not intended\n",
       "for legal use, since it may contain inaccuracies. Neither the data\n",
       "Contributor, ERD, NOAA, nor the United States Government, nor any\n",
       "of their employees or contractors, makes any warranty, express or\n",
       "implied, including warranties of merchantability and fitness for a\n",
       "particular purpose, or assumes any legal liability for the accuracy,\n",
       "completeness, or usefulness, of this information.\n",
       "    naming_authority: com.axiomdatascience\n",
       "    Northernmost_Northing: 45.95484\n",
       "    platform: buoy\n",
       "    platform_name: Regional Cabled Array: Central Caldera: Medium-Power JBox (MJ03F): Bottom Pressure and Tilt\n",
       "    platform_vocabulary: http://mmisw.org/ont/ioos/platform\n",
       "    processing_level: Level 2\n",
       "    publisher_institution: Ocean Observatories Initiative (OOI)\n",
       "    publisher_name: Ocean Observatories Initiative (OOI)\n",
       "    publisher_sector: gov_federal\n",
       "    publisher_type: institution\n",
       "    publisher_url: https://oceanobservatories.org/\n",
       "    references: https://ooinet.oceanobservatories.org/data_access/?search=RS03CCAL-MJ03F-05-BOTPTA301,https://ooinet.oceanobservatories.org/data_access/?search=RS03CCAL-MJ03F-05-BOTPTA301,http://oceanobservatories.org/quality-control/\n",
       "    sourceUrl: https://ooinet.oceanobservatories.org/data_access/?search=RS03CCAL-MJ03F-05-BOTPTA301\n",
       "    Southernmost_Northing: 45.95484\n",
       "    standard_name_vocabulary: CF Standard Name Table v72\n",
       "    station_id: 104331\n",
       "    summary: Timeseries data from 'Regional Cabled Array: Central Caldera: Medium-Power JBox (MJ03F): Bottom Pressure and Tilt' (ooi-rs03ccal-mj03f-05-botpta301)\n",
       "    time_coverage_end: 2014-09-02T00:00:00Z\n",
       "    time_coverage_start: 2014-08-29T20:59:00Z\n",
       "    title: Regional Cabled Array: Central Caldera: Medium-Power JBox (MJ03F): Bottom Pressure and Tilt\n",
       "    Westernmost_Easting: -130.00876\n",
       "    dimensions(sizes): timeseries(1), obs(4498), station_strlen(1)\n",
       "    variables(dimensions): |S1 station(timeseries, station_strlen), float64 latitude(timeseries), float64 longitude(timeseries), int32 rowSize(timeseries), float64 time(obs), float64 botpres(obs), float64 botsflu_meandepth(obs), float64 botsflu_meanpres(obs)\n",
       "    groups: "
      ]
     },
     "execution_count": 25,
     "metadata": {},
     "output_type": "execute_result"
    }
   ],
   "source": [
    "netcdf"
   ]
  },
  {
   "cell_type": "code",
   "execution_count": 29,
   "metadata": {},
   "outputs": [
    {
     "data": {
      "text/plain": [
       "ConcatDim(name='time', nitems_per_file=1)"
      ]
     },
     "execution_count": 29,
     "metadata": {},
     "output_type": "execute_result"
    }
   ],
   "source": [
    "time_concat_dim = ConcatDim(\"time\", years, nitems_per_file=1)\n",
    "time_concat_dim"
   ]
  },
  {
   "cell_type": "code",
   "execution_count": 30,
   "metadata": {},
   "outputs": [],
   "source": [
    "def make_url(dataset_id, variable, time):\n",
    "    return f\"http://erddap.dataexplorer.oceanobservatories.org/erddap/tabledap/{dataset_id}.nc?{variables}&time%3E={datetime.fromtimestamp(time)}&time%3C={datetime.fromtimestamp(time)}\""
   ]
  },
  {
   "cell_type": "code",
   "execution_count": 31,
   "metadata": {},
   "outputs": [
    {
     "data": {
      "text/plain": [
       "<FilePattern {'time': 2}>"
      ]
     },
     "execution_count": 31,
     "metadata": {},
     "output_type": "execute_result"
    }
   ],
   "source": [
    "pattern = FilePattern(make_url, time_concat_dim)\n",
    "pattern"
   ]
  },
  {
   "cell_type": "code",
   "execution_count": 28,
   "metadata": {},
   "outputs": [
    {
     "ename": "KeyError",
     "evalue": "0",
     "output_type": "error",
     "traceback": [
      "\u001b[0;31m---------------------------------------------------------------------------\u001b[0m",
      "\u001b[0;31mKeyError\u001b[0m                                  Traceback (most recent call last)",
      "\u001b[0;32m<ipython-input-28-5dfebeaa27c3>\u001b[0m in \u001b[0;36m<module>\u001b[0;34m\u001b[0m\n\u001b[0;32m----> 1\u001b[0;31m \u001b[0;32mfor\u001b[0m \u001b[0mindex\u001b[0m\u001b[0;34m,\u001b[0m \u001b[0murl\u001b[0m \u001b[0;32min\u001b[0m \u001b[0mpattern\u001b[0m\u001b[0;34m.\u001b[0m\u001b[0mitems\u001b[0m\u001b[0;34m(\u001b[0m\u001b[0;34m)\u001b[0m\u001b[0;34m:\u001b[0m\u001b[0;34m\u001b[0m\u001b[0;34m\u001b[0m\u001b[0m\n\u001b[0m\u001b[1;32m      2\u001b[0m     \u001b[0mprint\u001b[0m\u001b[0;34m(\u001b[0m\u001b[0mindex\u001b[0m\u001b[0;34m)\u001b[0m\u001b[0;34m\u001b[0m\u001b[0;34m\u001b[0m\u001b[0m\n\u001b[1;32m      3\u001b[0m     \u001b[0mprint\u001b[0m\u001b[0;34m(\u001b[0m\u001b[0murl\u001b[0m\u001b[0;34m)\u001b[0m\u001b[0;34m\u001b[0m\u001b[0;34m\u001b[0m\u001b[0m\n\u001b[1;32m      4\u001b[0m     \u001b[0;32mif\u001b[0m \u001b[0mdatetime\u001b[0m\u001b[0;34m.\u001b[0m\u001b[0mtimestamp\u001b[0m\u001b[0;34m(\u001b[0m\u001b[0myears\u001b[0m\u001b[0;34m)\u001b[0m \u001b[0;32min\u001b[0m \u001b[0murl\u001b[0m\u001b[0;34m:\u001b[0m\u001b[0;34m\u001b[0m\u001b[0;34m\u001b[0m\u001b[0m\n\u001b[1;32m      5\u001b[0m         \u001b[0;32mbreak\u001b[0m\u001b[0;34m\u001b[0m\u001b[0;34m\u001b[0m\u001b[0m\n",
      "\u001b[0;32m~/repos/hemasphere/botpt/pangeo-forge-recipes/pangeo_forge_recipes/patterns.py\u001b[0m in \u001b[0;36mitems\u001b[0;34m(self)\u001b[0m\n\u001b[1;32m    214\u001b[0m         \u001b[0;34m\"\"\"Iterate over key, filename pairs.\"\"\"\u001b[0m\u001b[0;34m\u001b[0m\u001b[0;34m\u001b[0m\u001b[0m\n\u001b[1;32m    215\u001b[0m         \u001b[0;32mfor\u001b[0m \u001b[0mkey\u001b[0m \u001b[0;32min\u001b[0m \u001b[0mself\u001b[0m\u001b[0;34m:\u001b[0m\u001b[0;34m\u001b[0m\u001b[0;34m\u001b[0m\u001b[0m\n\u001b[0;32m--> 216\u001b[0;31m             \u001b[0;32myield\u001b[0m \u001b[0mkey\u001b[0m\u001b[0;34m,\u001b[0m \u001b[0mself\u001b[0m\u001b[0;34m[\u001b[0m\u001b[0mkey\u001b[0m\u001b[0;34m]\u001b[0m\u001b[0;34m\u001b[0m\u001b[0;34m\u001b[0m\u001b[0m\n\u001b[0m\u001b[1;32m    217\u001b[0m \u001b[0;34m\u001b[0m\u001b[0m\n\u001b[1;32m    218\u001b[0m \u001b[0;34m\u001b[0m\u001b[0m\n",
      "\u001b[0;32m~/repos/hemasphere/botpt/pangeo-forge-recipes/pangeo_forge_recipes/patterns.py\u001b[0m in \u001b[0;36m__getitem__\u001b[0;34m(self, indexer)\u001b[0m\n\u001b[1;32m    196\u001b[0m                 \u001b[0;32mraise\u001b[0m \u001b[0mKeyError\u001b[0m\u001b[0;34m(\u001b[0m\u001b[0;34mr\"Could not valid combine_dim for indexer {idx}\"\u001b[0m\u001b[0;34m)\u001b[0m\u001b[0;34m\u001b[0m\u001b[0;34m\u001b[0m\u001b[0m\n\u001b[1;32m    197\u001b[0m             \u001b[0mdim\u001b[0m \u001b[0;34m=\u001b[0m \u001b[0mdims\u001b[0m\u001b[0;34m[\u001b[0m\u001b[0;36m0\u001b[0m\u001b[0;34m]\u001b[0m\u001b[0;34m\u001b[0m\u001b[0;34m\u001b[0m\u001b[0m\n\u001b[0;32m--> 198\u001b[0;31m             \u001b[0mformat_function_kwargs\u001b[0m\u001b[0;34m[\u001b[0m\u001b[0mdim\u001b[0m\u001b[0;34m.\u001b[0m\u001b[0mname\u001b[0m\u001b[0;34m]\u001b[0m \u001b[0;34m=\u001b[0m \u001b[0mdim\u001b[0m\u001b[0;34m.\u001b[0m\u001b[0mkeys\u001b[0m\u001b[0;34m[\u001b[0m\u001b[0midx\u001b[0m\u001b[0;34m.\u001b[0m\u001b[0mindex\u001b[0m\u001b[0;34m]\u001b[0m\u001b[0;34m\u001b[0m\u001b[0;34m\u001b[0m\u001b[0m\n\u001b[0m\u001b[1;32m    199\u001b[0m         \u001b[0mfname\u001b[0m \u001b[0;34m=\u001b[0m \u001b[0mself\u001b[0m\u001b[0;34m.\u001b[0m\u001b[0mformat_function\u001b[0m\u001b[0;34m(\u001b[0m\u001b[0;34m**\u001b[0m\u001b[0mformat_function_kwargs\u001b[0m\u001b[0;34m)\u001b[0m\u001b[0;34m\u001b[0m\u001b[0;34m\u001b[0m\u001b[0m\n\u001b[1;32m    200\u001b[0m         \u001b[0;32mreturn\u001b[0m \u001b[0mfname\u001b[0m\u001b[0;34m\u001b[0m\u001b[0;34m\u001b[0m\u001b[0m\n",
      "\u001b[0;31mKeyError\u001b[0m: 0"
     ]
    }
   ],
   "source": [
    "for index, url in pattern.items():\n",
    "    print(index)\n",
    "    print(url)\n",
    "    if datetime.timestamp(years) in url:\n",
    "        break\n",
    "    "
   ]
  },
  {
   "cell_type": "code",
   "execution_count": null,
   "metadata": {},
   "outputs": [],
   "source": [
    "test = xr.open_dataset(\"test.nc\")\n",
    "test2 = xr.open_dataset(\"test2.nc\")\n",
    "# wget -O "
   ]
  },
  {
   "cell_type": "code",
   "execution_count": null,
   "metadata": {},
   "outputs": [],
   "source": [
    "test"
   ]
  },
  {
   "cell_type": "code",
   "execution_count": null,
   "metadata": {},
   "outputs": [],
   "source": [
    "test2"
   ]
  },
  {
   "cell_type": "code",
   "execution_count": null,
   "metadata": {},
   "outputs": [],
   "source": []
  },
  {
   "cell_type": "code",
   "execution_count": null,
   "metadata": {},
   "outputs": [],
   "source": []
  },
  {
   "cell_type": "code",
   "execution_count": null,
   "metadata": {},
   "outputs": [],
   "source": []
  }
 ],
 "metadata": {
  "kernelspec": {
   "display_name": "Python 3",
   "language": "python",
   "name": "python3"
  },
  "language_info": {
   "codemirror_mode": {
    "name": "ipython",
    "version": 3
   },
   "file_extension": ".py",
   "mimetype": "text/x-python",
   "name": "python",
   "nbconvert_exporter": "python",
   "pygments_lexer": "ipython3",
   "version": "3.8.6"
  }
 },
 "nbformat": 4,
 "nbformat_minor": 4
}
